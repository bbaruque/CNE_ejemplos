{
 "cells": [
  {
   "cell_type": "markdown",
   "metadata": {},
   "source": [
    "# Problema de la Mochila\n",
    "\n",
    "A continuación se muestran los diferentes pasos de la solución al Problema de La Mochila con DEAP"
   ]
  },
  {
   "cell_type": "markdown",
   "metadata": {},
   "source": [
    "## Descripcion del problema\n",
    "\n",
    "Se puede encontrar una descripción completa del problema de la mochila en el siguiente [enlace](https://es.wikipedia.org/wiki/Problema_de_la_mochila)."
   ]
  },
  {
   "cell_type": "code",
   "execution_count": 3,
   "metadata": {},
   "outputs": [
    {
     "name": "stderr",
     "output_type": "stream",
     "text": [
      "C:\\ProgramData\\Anaconda\\lib\\site-packages\\deap-1.2.2-py3.6.egg\\deap\\tools\\_hypervolume\\pyhv.py:33: ImportWarning: Falling back to the python version of hypervolume module. Expect this to be very slow.\n"
     ]
    }
   ],
   "source": [
    "import random\n",
    "import numpy as np\n",
    "\n",
    "import matplotlib.pyplot as plt\n",
    "\n",
    "from deap import base, creator\n",
    "from deap import tools\n",
    "from deap import algorithms"
   ]
  },
  {
   "cell_type": "markdown",
   "metadata": {},
   "source": [
    "## Datos del problema\n",
    "Por simplificación, aquí se incluyen ya los vectores que contienen los datos del problema. En muchos casos, es probable que tengamos que extraerlos de un fichero externo"
   ]
  },
  {
   "cell_type": "code",
   "execution_count": 4,
   "metadata": {},
   "outputs": [],
   "source": [
    "#Trabajamos con 5 objetos\n",
    "values = [10,200,50,120,200] # valor de cada objeto\n",
    "weights = [45,80,25,15,75] # peso de cada objeto\n",
    "knapsackMax = 200 # peso maximo que se puede cargar en la mochila"
   ]
  },
  {
   "cell_type": "markdown",
   "metadata": {},
   "source": [
    "## Estructuras de datos de configuración"
   ]
  },
  {
   "cell_type": "markdown",
   "metadata": {},
   "source": [
    "En primer lugar, se crea el objeto donde iremos guardando las diferentes configuraciones"
   ]
  },
  {
   "cell_type": "code",
   "execution_count": 5,
   "metadata": {},
   "outputs": [],
   "source": [
    "toolbox = base.Toolbox()"
   ]
  },
  {
   "cell_type": "markdown",
   "metadata": {},
   "source": [
    "## Configuración de los Individuos\n",
    "\n",
    "Esta configuración dependerá del problema. Queda a decisión del programador la definición de cada individuo.\n",
    "\n",
    "1. En primer lugar Se configura el fitness que se va a emplear en los individuos  \n",
    "En este caso se configura para:  \n",
    "    a.buscar un único objetivo: es una tupla de solo un numero  \n",
    "    b.maximizar ese objetivo (se multiplica por un positivo)  \n",
    "    \n",
    "2. Se configura el individuo para que utilice la descripción anterior de fitness dentro de los individuos"
   ]
  },
  {
   "cell_type": "code",
   "execution_count": 6,
   "metadata": {},
   "outputs": [],
   "source": [
    "creator.create(\"FitnessMax\", base.Fitness, weights=(1.0,))\n",
    "creator.create(\"Individual\", list, fitness=creator.FitnessMax)"
   ]
  },
  {
   "cell_type": "markdown",
   "metadata": {},
   "source": [
    "1. Se configura el atributo (\"attribute\") con el que se generará cada gen del individuo\n",
    "2. El individuo se crea como una lista (o repeticion) de \"attribute\", definido justo antes\n",
    "3. La población se crea como una lista de \"individual\", definido justo antes"
   ]
  },
  {
   "cell_type": "code",
   "execution_count": 7,
   "metadata": {},
   "outputs": [],
   "source": [
    "# Ejemplo de Genotipo cuyos genes son de tipo booleano '''\n",
    "toolbox.register(\"attribute\", random.randint, 0, 1)\n",
    "#Tendrá una longitud de 5 atributos \n",
    "toolbox.register(\"individual\", tools.initRepeat, creator.Individual, toolbox.attribute, n=5)\n",
    "toolbox.register(\"population\", tools.initRepeat, list, toolbox.individual) "
   ]
  },
  {
   "cell_type": "markdown",
   "metadata": {},
   "source": [
    "Se comprueba que está correctamente definido. \n",
    "No es necesario incluir esta celda en el experimento final."
   ]
  },
  {
   "cell_type": "code",
   "execution_count": 9,
   "metadata": {},
   "outputs": [
    {
     "name": "stdout",
     "output_type": "stream",
     "text": [
      "Individuo:  [1, 1, 1, 1, 1]\n",
      "Poblacion:  [[0, 1, 0, 0, 0], [0, 1, 0, 0, 0], [1, 1, 1, 0, 1], [1, 1, 0, 1, 1], [0, 0, 0, 0, 0], [0, 1, 1, 1, 0], [1, 0, 1, 1, 0], [0, 0, 1, 0, 1], [0, 0, 0, 0, 1], [1, 0, 1, 0, 1]]\n"
     ]
    }
   ],
   "source": [
    "# Se genera un único individuo\n",
    "ind = toolbox.individual()\n",
    "print(\"Individuo: \",ind)\n",
    "    \n",
    "# Se inicializa la poblacion. Tendrá un total de 10 individuos. \n",
    "# Se genera como una lista de individuos \n",
    "pop = toolbox.population(n=10)\n",
    "\n",
    "# Se imprime la población: 10 individuos de 5 genes cada uno\n",
    "print(\"Poblacion: \",pop)"
   ]
  },
  {
   "cell_type": "markdown",
   "metadata": {},
   "source": [
    "## Evaluación de la Adaptación"
   ]
  },
  {
   "cell_type": "markdown",
   "metadata": {
    "collapsed": true
   },
   "source": [
    "Para poder ejecutar el algoritmo genético, tendremos que implementar una función que, dado un individuo, nos indique (de manera numérica) cómo de adaptado está a la solución que estamos buscando."
   ]
  },
  {
   "cell_type": "code",
   "execution_count": 10,
   "metadata": {},
   "outputs": [],
   "source": [
    "def evalKnapsack(individual):\n",
    "\n",
    "    value = 0.0\n",
    "    weight = 0.0\n",
    "    \n",
    "    # Producto vectorial de un individuo (boolean) por los datos (float)\n",
    "    # Multiplica cada bit del individuo por el valor correspondiente en el vector de datos\n",
    "    # y finalmente hace la suma de todos\n",
    "    value = np.dot(individual,values)\n",
    "    weight = np.dot(individual,weights) # Mismo cáculo para el vector de pesos\n",
    "\n",
    "#    print(\"value: \", value)\n",
    "#    print(\"weight: \", weight)\n",
    "\n",
    "    # Se penaliza en caso de que el peso de la mochila exceda el maximo\n",
    "    diff = knapsackMax - weight\n",
    "    if(diff < 0):\n",
    "         value = value + (diff * 10) # OJO: tened en cuenta que diff es negativo, por lo que en realidad está RESTANDO\n",
    "\n",
    "    return value, #OJO: La respuesta tiene que ser una tupla, aunque solo consideremos un valor"
   ]
  },
  {
   "cell_type": "markdown",
   "metadata": {},
   "source": [
    "A continuación se incluye un apartado que comprueba que la función de evaluación definida es válida. Este código NO es necesario para la solución final, sino solo como demostración de la anterior."
   ]
  },
  {
   "cell_type": "code",
   "execution_count": 12,
   "metadata": {},
   "outputs": [
    {
     "name": "stdout",
     "output_type": "stream",
     "text": [
      "\n",
      "Individuo ANTES de evaluar\n",
      "[1, 1, 1, 0, 0]\n",
      "False\n",
      "\n",
      "Individuo TRAS evaluar\n",
      "[1, 1, 1, 0, 0]\n",
      "True\n",
      "(260.0,)\n"
     ]
    }
   ],
   "source": [
    "# Se instancia un individuo (aleatorio)\n",
    "ind = toolbox.individual()\n",
    " \n",
    "'''\n",
    "Se aconseja al alumno probar con varios individuos en diferentes condiciones\n",
    "de optimalidad para comprobar si la función está bien definida en todo el \n",
    "espacio de búsqueda.    \n",
    "'''\n",
    "\n",
    "# Se imprime el individuo ANTES de evaluar\n",
    "print (\"\\nIndividuo ANTES de evaluar\")\n",
    "print (ind)\n",
    "print (ind.fitness.valid)  # False\n",
    "\n",
    "ind.fitness.values = evalKnapsack(ind)\n",
    "\n",
    "# Se imprime el individuo DESPUES de evaluar\n",
    "print (\"\\nIndividuo TRAS evaluar\")\n",
    "print (ind)\n",
    "print (ind.fitness.valid) # True\n",
    "print (ind.fitness)"
   ]
  },
  {
   "cell_type": "markdown",
   "metadata": {},
   "source": [
    "## Configuración de la Evolución"
   ]
  },
  {
   "cell_type": "markdown",
   "metadata": {},
   "source": [
    "Ya hemos configurado todas las partes diréctamente relacionadas con el problema a resolver. A continuación vamos a configurar cómo queremos que la librería DEAP realice la evolución de los individuos que representan soluciones hasta encontrar la más adecuada.\n",
    "Esta parte consiste en seleccionar que procedimientos queremos emplear en cada una de las partes del ciclo evolutivo."
   ]
  },
  {
   "cell_type": "code",
   "execution_count": 13,
   "metadata": {},
   "outputs": [],
   "source": [
    "# Se seleccionan procedimiento standard para cruce, mutacion y seleccion. Se recomienda repasar el material visto en teoría.\n",
    "toolbox.register(\"select\", tools.selTournament, tournsize=3) # seleccion\n",
    "toolbox.register(\"mate\", tools.cxOnePoint) # cruce\n",
    "toolbox.register(\"mutate\", tools.mutFlipBit, indpb=0.2) # mutacion\n",
    "\n",
    "# Se define cómo se evaluará cada individuo\n",
    "# En este caso, se hará uso de la función de evaluación que se ha definido en la sección anterior\n",
    "toolbox.register(\"evaluate\", evalKnapsack)"
   ]
  },
  {
   "cell_type": "markdown",
   "metadata": {},
   "source": [
    "## Ejecución del algoritmo genético"
   ]
  },
  {
   "cell_type": "markdown",
   "metadata": {},
   "source": [
    "### Configuración de las estadísticas\n",
    "\n",
    "Si deseamos obtener algún valor para ayudarnos a comprender cómo avanza el algoritmo, debemos hacerlo en el objeto del tipo Statistics. Éste calcula resúmenes sobre la función de adaptación que contienen el conjunto de los individuos de la población."
   ]
  },
  {
   "cell_type": "code",
   "execution_count": 14,
   "metadata": {},
   "outputs": [],
   "source": [
    "# Se configura que estadísticas se quieren analizar \n",
    "stats = tools.Statistics(lambda ind: ind.fitness.values) \n",
    "stats.register(\"avg\", np.mean) \n",
    "stats.register(\"std\", np.std) \n",
    "stats.register(\"min\", np.min) \n",
    "stats.register(\"max\", np.max) "
   ]
  },
  {
   "cell_type": "markdown",
   "metadata": {},
   "source": [
    "### Llamada a la Ejecución del Algoritmo\n",
    "\n",
    "Se ejecuta el ciclo evolutivo durante el número de generaciones determindo.\n",
    "Se debe tener en cuenta que, al ser un ejemplo, el problema es muy simple y no es necesario iterar durante mucho tiempo. En los casos reales, tanto el tamaño de la población, como el número de generaciones probablemente deban ser mucho mayores."
   ]
  },
  {
   "cell_type": "code",
   "execution_count": 17,
   "metadata": {},
   "outputs": [
    {
     "name": "stdout",
     "output_type": "stream",
     "text": [
      "El resultado de la evolución es: \n",
      "gen\tnevals\tavg\tstd    \tmin\tmax\n",
      "0  \t10    \t295\t109.293\t60 \t450\n",
      "1  \t8     \t347\t73.2189\t180\t450\n",
      "2  \t9     \t334\t64.6838\t210\t380\n",
      "3  \t7     \t357\t59.1692\t180\t380\n",
      "4  \t6     \t380\t0      \t380\t380\n",
      "5  \t4     \t380\t0      \t380\t380\n",
      "6  \t5     \t323\t87.4128\t180\t380\n",
      "7  \t6     \t243\t90.1166\t180\t380\n",
      "8  \t6     \t283\t97.3704\t180\t380\n",
      "9  \t4     \t366\t38.7814\t250\t380\n",
      "10 \t6     \t360\t60     \t180\t380\n",
      "11 \t5     \t347\t69     \t170\t380\n",
      "12 \t6     \t359\t59.7411\t180\t380\n",
      "13 \t7     \t367\t39     \t250\t380\n",
      "14 \t4     \t375\t15     \t330\t380\n",
      "15 \t7     \t356\t48     \t260\t380\n",
      "16 \t5     \t380\t0      \t380\t380\n",
      "17 \t3     \t387\t21     \t380\t450\n",
      "18 \t8     \t389\t107.093\t210\t570\n",
      "19 \t8     \t455\t93.9415\t370\t570\n",
      "20 \t6     \t538\t96     \t250\t570\n",
      "La mejor solucion encontrada es: \n",
      "[0, 1, 1, 1, 1]\n"
     ]
    }
   ],
   "source": [
    "# Se genera una población inicial. El tamaño será siempre de 10.\n",
    "population = toolbox.population(n=10)\n",
    "\n",
    "# Se llama al algoritmo que permite la evolucion de las soluciones\n",
    "population, logbook = algorithms.eaSimple(population, toolbox, \n",
    "                                    cxpb=0.5, mutpb=0.2, # Probabilidades de cruce y mutacion\n",
    "                                    ngen=20, verbose=False, stats=stats) # Numero de generaciones a completar y estadisticas a recoger\n",
    "\n",
    "# Por cada generación, la estructura de logbook va almacenando un resumen de los\n",
    "# avances del algoritmo.\n",
    "print(\"El resultado de la evolución es: \")\n",
    "print(logbook)\n",
    "\n",
    "print(\"La mejor solucion encontrada es: \")\n",
    "print(tools.selBest(population,1)[0])"
   ]
  },
  {
   "cell_type": "markdown",
   "metadata": {},
   "source": [
    "# Representación de los resultados\n",
    "Por último, se pueden obtener gráficas empleando los datos de las estadísticas recogidas, para visualizarlos de forma más intuitiva."
   ]
  },
  {
   "cell_type": "code",
   "execution_count": 16,
   "metadata": {},
   "outputs": [
    {
     "data": {
      "text/plain": [
       "[]"
      ]
     },
     "execution_count": 16,
     "metadata": {},
     "output_type": "execute_result"
    },
    {
     "data": {
      "image/png": "[encoded data removed]",
      "text/plain": [
       "<Figure size 432x288 with 1 Axes>"
      ]
     },
     "metadata": {},
     "output_type": "display_data"
    }
   ],
   "source": [
    "# Se recuperan los datos desde el log\n",
    "gen = logbook.select(\"gen\")\n",
    "avgs = logbook.select(\"avg\")\n",
    "    \n",
    "# Se establece una figura para dibujar\n",
    "fig = plt.figure()\n",
    "    \n",
    "# Se representa la media del valor de fitness por cada generación\n",
    "ax1 = plt.gca()\n",
    "line1 = ax1.plot(gen, avgs, \"r-\", label=\"Average Fitness\")    \n",
    "ax1.set_xlabel(\"Generation\")\n",
    "ax1.set_ylabel(\"Fitness\", color=\"b\")\n",
    "    \n",
    "''' Notad que se deberían representar mas cosas. Por ejemplo el maximo y el minimo de\n",
    "ese fitness se están recogiendo en las estadisticas, aunque en el ejemplo no se\n",
    "representen '''\n",
    "    \n",
    "plt.plot()"
   ]
  },
  {
   "cell_type": "code",
   "execution_count": null,
   "metadata": {},
   "outputs": [],
   "source": []
  }
 ],
 "metadata": {
  "kernelspec": {
   "display_name": "Python 3",
   "language": "python",
   "name": "python3"
  },
  "language_info": {
   "codemirror_mode": {
    "name": "ipython",
    "version": 3
   },
   "file_extension": ".py",
   "mimetype": "text/x-python",
   "name": "python",
   "nbconvert_exporter": "python",
   "pygments_lexer": "ipython3",
   "version": "3.6.6"
  }
 },
 "nbformat": 4,
 "nbformat_minor": 2
}
