{
 "cells": [
  {
   "cell_type": "markdown",
   "source": [
    "# Problema de la Mochila\r\n",
    "\r\n",
    "A continuación se muestran los diferentes pasos de la solución al Problema de La Mochila empleando la librería [DEAP](https://github.com/DEAP/deap) de Python"
   ],
   "metadata": {}
  },
  {
   "cell_type": "markdown",
   "source": [
    "## The Knapsack Problem\r\n",
    "\r\n",
    "The following are the different steps in the solution to the Knapsack Problem using the Python [DEAP](https://github.com/DEAP/deap) library"
   ],
   "metadata": {}
  },
  {
   "cell_type": "markdown",
   "source": [
    "## Descripcion del problema\r\n",
    "Se puede encontrar una descripción completa del problema de la mochila en el siguiente [enlace](https://es.wikipedia.org/wiki/Problema_de_la_mochila)."
   ],
   "metadata": {}
  },
  {
   "cell_type": "markdown",
   "source": [
    "\r\n",
    "### Description of the problem\r\n",
    "A full description of the backpack problem can be found at the following [link](https://en.wikipedia.org/wiki/Knapsack_problem)."
   ],
   "metadata": {}
  },
  {
   "cell_type": "code",
   "execution_count": 1,
   "source": [
    "import random\r\n",
    "import numpy as np\r\n",
    "\r\n",
    "import matplotlib.pyplot as plt\r\n",
    "\r\n",
    "from deap import base, creator\r\n",
    "from deap import tools\r\n",
    "from deap import algorithms"
   ],
   "outputs": [],
   "metadata": {}
  },
  {
   "cell_type": "markdown",
   "source": [
    "## Datos del problema\r\n",
    "Por simplificación, aquí se incluyen ya los vectores que contienen los datos del problema. En muchos casos, es probable que tengamos que extraerlos de un fichero externo."
   ],
   "metadata": {}
  },
  {
   "cell_type": "markdown",
   "source": [
    "\r\n",
    "### Problem data\r\n",
    "For simplicity, the vectors containing the problem data are already included here. In many cases, we will probably have to extract them from an external file."
   ],
   "metadata": {}
  },
  {
   "cell_type": "code",
   "execution_count": 2,
   "source": [
    "#Trabajamos con 5 objetos\r\n",
    "values = [10,200,50,120,200] # valor de cada objeto\r\n",
    "weights = [45,80,25,15,75] # peso de cada objeto\r\n",
    "knapsackMax = 200 # peso maximo que se puede cargar en la mochila"
   ],
   "outputs": [],
   "metadata": {}
  },
  {
   "cell_type": "markdown",
   "source": [
    "## Configuración de la Solución"
   ],
   "metadata": {}
  },
  {
   "cell_type": "markdown",
   "source": [
    "### Estructuras de datos de configuración\r\n",
    "\r\n",
    "En primer lugar, se crea el objeto donde iremos guardando las diferentes configuraciones"
   ],
   "metadata": {}
  },
  {
   "cell_type": "markdown",
   "source": [
    "### Configuration data structures\r\n",
    "\r\n",
    "First of all, the object where the different configurations will be stored is created."
   ],
   "metadata": {}
  },
  {
   "cell_type": "code",
   "execution_count": 3,
   "source": [
    "toolbox = base.Toolbox()"
   ],
   "outputs": [],
   "metadata": {}
  },
  {
   "cell_type": "markdown",
   "source": [
    "### Configuración de los Individuos\r\n",
    "\r\n",
    "Esta configuración dependerá del problema. Queda a decisión del programador la definición de cada individuo.\r\n",
    "\r\n",
    "1. En primer lugar Se configura el fitness que se va a emplear en los individuos  \r\n",
    "En este caso se configura para:  \r\n",
    "    a.buscar un único objetivo: es una tupla de solo un numero  \r\n",
    "    b.maximizar ese objetivo (se multiplica por un positivo)  \r\n",
    "    \r\n",
    "2. Se configura el individuo para que utilice la descripción anterior de fitness dentro de los individuos"
   ],
   "metadata": {}
  },
  {
   "cell_type": "markdown",
   "source": [
    "#### Individuals configuration\r\n",
    "\r\n",
    "This configuration will depend on the problem. It is up to the programmer to define each individual.\r\n",
    "\r\n",
    "1. First of all, the fitness to be used for the individuals is configured.  \r\n",
    "In this case it is configured to:  \r\n",
    "    a.search for a single objective: it is a tuple of only one number.  \r\n",
    "    b.maximise that objective (it is multiplied by a positive).  \r\n",
    "    \r\n",
    "2. The individual is configured to use the above description of fitness within each individual."
   ],
   "metadata": {}
  },
  {
   "cell_type": "code",
   "execution_count": 4,
   "source": [
    "creator.create(\"FitnessMax\", base.Fitness, weights=(1.0,))\r\n",
    "creator.create(\"Individual\", list, fitness=creator.FitnessMax)"
   ],
   "outputs": [],
   "metadata": {}
  },
  {
   "cell_type": "markdown",
   "source": [
    "1. Se configura el atributo (\"attribute\") con el que se generará cada gen del individuo\r\n",
    "2. El individuo se crea como una lista (o repeticion) de \"attribute\", definido justo antes\r\n",
    "3. La población se crea como una lista de \"individual\", definido justo antes"
   ],
   "metadata": {}
  },
  {
   "cell_type": "markdown",
   "source": [
    "1. The attribute with which each gene of the individual will be generated is configured.\r\n",
    "2. The individual is created as a list (or repetition) of the \"attribute\", defined just before.\r\n",
    "3. The population is created as a list of \"individual\", defined just before."
   ],
   "metadata": {}
  },
  {
   "cell_type": "code",
   "execution_count": 5,
   "source": [
    "# Ejemplo de Genotipo cuyos genes son de tipo booleano '''\r\n",
    "toolbox.register(\"attribute\", random.randint, 0, 1)\r\n",
    "#Tendrá una longitud de 5 atributos \r\n",
    "toolbox.register(\"individual\", tools.initRepeat, creator.Individual, toolbox.attribute, n=5)\r\n",
    "toolbox.register(\"population\", tools.initRepeat, list, toolbox.individual) "
   ],
   "outputs": [],
   "metadata": {}
  },
  {
   "cell_type": "markdown",
   "source": [
    "Se comprueba que está correctamente definido. \r\n",
    "No es necesario incluir esta celda en el experimento final."
   ],
   "metadata": {}
  },
  {
   "cell_type": "markdown",
   "source": [
    "We check that it is correctly defined. \r\n",
    "It is not necessary to include this cell in the final experiment."
   ],
   "metadata": {}
  },
  {
   "cell_type": "code",
   "execution_count": 6,
   "source": [
    "# Se genera un único individuo\r\n",
    "# A single individual is generated\r\n",
    "ind = toolbox.individual()\r\n",
    "print(\"Individuo: \",ind)\r\n",
    "    \r\n",
    "# Se inicializa la poblacion. Tendrá un total de 10 individuos. Se genera como una lista de individuos.\r\n",
    "# The population is initialised. It will have a total of 10 individuals. It is generated as a list of individuals.\r\n",
    "pop = toolbox.population(n=10)\r\n",
    "\r\n",
    "# Se imprime la población: 10 individuos de 5 genes cada uno\r\n",
    "# The population is printed: 10 individuals of 5 genes each\r\n",
    "print(\"Poblacion: \",pop)"
   ],
   "outputs": [
    {
     "output_type": "stream",
     "name": "stdout",
     "text": [
      "Individuo:  [0, 0, 0, 1, 0]\n",
      "Poblacion:  [[0, 0, 0, 1, 0], [1, 0, 1, 1, 0], [1, 0, 0, 1, 0], [1, 0, 1, 1, 1], [0, 0, 0, 1, 1], [0, 0, 1, 1, 1], [1, 0, 0, 1, 1], [0, 1, 0, 0, 0], [0, 0, 1, 0, 1], [0, 0, 0, 0, 1]]\n"
     ]
    }
   ],
   "metadata": {}
  },
  {
   "cell_type": "markdown",
   "source": [
    "## Evaluación de la Adaptación\r\n",
    "\r\n",
    "Para poder ejecutar el algoritmo genético, tendremos que implementar una función que, dado un individuo, nos indique (de manera numérica) cómo de adaptado está a la solución que estamos buscando."
   ],
   "metadata": {}
  },
  {
   "cell_type": "markdown",
   "source": [
    "### Fitness Assesment\r\n",
    "\r\n",
    "In order to execute the genetic algorithm, we will have to implement a function that, given an individual, tells us (numerically) how adapted it is to the solution we are looking for."
   ],
   "metadata": {
    "collapsed": true
   }
  },
  {
   "cell_type": "code",
   "execution_count": 7,
   "source": [
    "def evalKnapsack(individual):\r\n",
    "\r\n",
    "    value = 0.0\r\n",
    "    weight = 0.0\r\n",
    "    \r\n",
    "    # Producto vectorial de un individuo (boolean) por los datos (float)\r\n",
    "    # Multiplica cada bit del individuo por el valor correspondiente en el vector de datos\r\n",
    "    # y finalmente hace la suma de todos\r\n",
    "    value = np.dot(individual,values)\r\n",
    "    weight = np.dot(individual,weights) # Mismo cáculo para el vector de pesos\r\n",
    "\r\n",
    "#    print(\"value: \", value)\r\n",
    "#    print(\"weight: \", weight)\r\n",
    "\r\n",
    "    # Se penaliza en caso de que el peso de la mochila exceda el maximo\r\n",
    "    diff = knapsackMax - weight\r\n",
    "    if(diff < 0):\r\n",
    "         value = value + (diff * 10) # OJO: tened en cuenta que diff es negativo, por lo que en realidad está RESTANDO\r\n",
    "\r\n",
    "    return value, #OJO: La respuesta tiene que ser una tupla, aunque solo consideremos un valor"
   ],
   "outputs": [],
   "metadata": {}
  },
  {
   "cell_type": "markdown",
   "source": [
    "A continuación se incluye un apartado que comprueba que la función de evaluación definida es válida. Este código NO es necesario para la solución final, sino solo como demostración de la anterior."
   ],
   "metadata": {}
  },
  {
   "cell_type": "markdown",
   "source": [
    "Below is a section that checks that the defined evaluation function is valid. This code is NOT necessary for the final solution, but only as a demonstration of the previous one."
   ],
   "metadata": {}
  },
  {
   "cell_type": "code",
   "execution_count": 8,
   "source": [
    "# Se instancia un individuo (aleatorio)\r\n",
    "ind = toolbox.individual()\r\n",
    " \r\n",
    "'''\r\n",
    "Se aconseja al alumno probar con varios individuos en diferentes condiciones de optimalidad para comprobar si la función está bien definida en todo el espacio de búsqueda.    \r\n",
    "'''\r\n",
    "\r\n",
    "'''The student is advised to test with several individuals under different optimality conditions to check if the function is well defined over the whole search space.  '''\r\n",
    "\r\n",
    "# Se imprime el individuo ANTES de evaluar\r\n",
    "print (\"\\nIndividuo ANTES de evaluar\")\r\n",
    "print (ind)\r\n",
    "print (ind.fitness.valid)  # False\r\n",
    "\r\n",
    "ind.fitness.values = evalKnapsack(ind)\r\n",
    "\r\n",
    "# Se imprime el individuo DESPUES de evaluar\r\n",
    "print (\"\\nIndividuo TRAS evaluar\")\r\n",
    "print (ind)\r\n",
    "print (ind.fitness.valid) # True\r\n",
    "print (ind.fitness)"
   ],
   "outputs": [
    {
     "output_type": "stream",
     "name": "stdout",
     "text": [
      "\n",
      "Individuo ANTES de evaluar\n",
      "[0, 1, 1, 0, 1]\n",
      "False\n",
      "\n",
      "Individuo TRAS evaluar\n",
      "[0, 1, 1, 0, 1]\n",
      "True\n",
      "(450.0,)\n"
     ]
    }
   ],
   "metadata": {}
  },
  {
   "cell_type": "markdown",
   "source": [
    "## Configuración del algoritmo genético\r\n",
    "\r\n",
    "Ya hemos configurado todas las partes diréctamente relacionadas con el problema a resolver. A continuación vamos a configurar cómo queremos que la librería DEAP realice la evolución de los individuos que representan soluciones hasta encontrar la más adecuada.\r\n",
    "Esta parte consiste en seleccionar que procedimientos queremos emplear en cada una de las partes del ciclo evolutivo."
   ],
   "metadata": {}
  },
  {
   "cell_type": "markdown",
   "source": [
    "### Setting of the genetic algorithm\r\n",
    "\r\n",
    "We have already configured all the parts directly related to the problem to be solved. Next we are going to configure how we want the DEAP library to carry out the evolution of the individuals that represent solutions until we find the most suitable one.\r\n",
    "This part consists of selecting which procedures we want to use in each of the parts of the evolutionary cycle."
   ],
   "metadata": {}
  },
  {
   "cell_type": "code",
   "execution_count": 9,
   "source": [
    "# Se seleccionan procedimiento standard para cruce, mutacion y seleccion. Se recomienda repasar el material visto en teoría.\r\n",
    "toolbox.register(\"select\", tools.selTournament, tournsize=3) # seleccion\r\n",
    "toolbox.register(\"mate\", tools.cxOnePoint) # cruce\r\n",
    "toolbox.register(\"mutate\", tools.mutFlipBit, indpb=0.2) # mutacion\r\n",
    "\r\n",
    "# Se define cómo se evaluará cada individuo\r\n",
    "# En este caso, se hará uso de la función de evaluación que se ha definido en la sección anterior\r\n",
    "toolbox.register(\"evaluate\", evalKnapsack)"
   ],
   "outputs": [],
   "metadata": {}
  },
  {
   "cell_type": "markdown",
   "source": [
    "## Configuración de las estadísticas\r\n",
    "\r\n",
    "Si deseamos obtener algún valor para ayudarnos a comprender cómo avanza el algoritmo, debemos hacerlo en el objeto del tipo Statistics. Éste calcula resúmenes sobre la función de adaptación que contienen el conjunto de los individuos de la población."
   ],
   "metadata": {}
  },
  {
   "cell_type": "markdown",
   "source": [
    "### Statistics configuration\r\n",
    "\r\n",
    "If we wish to obtain some value to help us understand how the algorithm is progressing, we must do so in the Statistics object. This calculates summaries of the adaptation function containing the set of individuals in the population."
   ],
   "metadata": {}
  },
  {
   "cell_type": "code",
   "execution_count": 10,
   "source": [
    "# Se configura que estadísticas se quieren analizar \r\n",
    "stats = tools.Statistics(lambda ind: ind.fitness.values) \r\n",
    "stats.register(\"avg\", np.mean) \r\n",
    "stats.register(\"std\", np.std) \r\n",
    "stats.register(\"min\", np.min) \r\n",
    "stats.register(\"max\", np.max) "
   ],
   "outputs": [],
   "metadata": {}
  },
  {
   "cell_type": "markdown",
   "source": [
    "## Ejecución del Algoritmo\r\n",
    "\r\n",
    "Se ejecuta el ciclo evolutivo durante el número de generaciones determindo.\r\n",
    "Se debe tener en cuenta que, al ser un ejemplo, el problema es muy simple y no es necesario iterar durante mucho tiempo. En los casos reales, tanto el tamaño de la población, como el número de generaciones probablemente deban ser mucho mayores."
   ],
   "metadata": {}
  },
  {
   "cell_type": "markdown",
   "source": [
    "### Execution of the Algorithm\r\n",
    "\r\n",
    "The evolutionary cycle is executed for the determined number of generations.\r\n",
    "Note that, being an example, the problem is very simple and it is not necessary to iterate for a long time. In real cases, both the population size and the number of generations probably need to be much larger."
   ],
   "metadata": {}
  },
  {
   "cell_type": "code",
   "execution_count": 11,
   "source": [
    "# Se genera una población inicial. El tamaño será siempre de 10 individuos.\r\n",
    "# The population is initialised with 10 individuals.\r\n",
    "population = toolbox.population(n=10)\r\n",
    "\r\n",
    "# Se llama al algoritmo que permite la evolucion de las soluciones\r\n",
    "# The algorithm that allows the evolution of the solutions is called\r\n",
    "population, logbook = algorithms.eaSimple(population, toolbox, \r\n",
    "                                    cxpb=0.5, mutpb=0.2, # Probabilidades de cruce y mutacion\r\n",
    "                                    ngen=20, verbose=False, stats=stats) # Numero de generaciones a completar y estadisticas a recoger\r\n",
    "\r\n",
    "# Por cada generación, la estructura de logbook va almacenando un resumen de los avances del algoritmo.\r\n",
    "# For each generation, the logbook structure stores a summary of the algorithm's progress.\r\n",
    "print(\"El resultado de la evolución es: \")\r\n",
    "print(logbook)\r\n",
    "\r\n",
    "print(\"La mejor solucion encontrada es: \")\r\n",
    "print(tools.selBest(population,1)[0])"
   ],
   "outputs": [
    {
     "output_type": "stream",
     "name": "stdout",
     "text": [
      "El resultado de la evolución es: \n",
      "gen\tnevals\tavg\tstd    \tmin\tmax\n",
      "0  \t10    \t262\t161.914\t50 \t570\n",
      "1  \t6     \t374\t117.064\t200\t570\n",
      "2  \t6     \t487\t123.292\t180\t570\n",
      "3  \t7     \t511\t125.415\t180\t570\n",
      "4  \t3     \t570\t0      \t570\t570\n",
      "5  \t2     \t545\t60.208 \t370\t570\n",
      "6  \t4     \t570\t0      \t570\t570\n",
      "7  \t3     \t558\t36     \t450\t570\n",
      "8  \t5     \t546\t48     \t450\t570\n",
      "9  \t6     \t570\t0      \t570\t570\n",
      "10 \t7     \t487\t131.153\t250\t570\n",
      "11 \t8     \t507\t106.4  \t250\t570\n",
      "12 \t5     \t551\t57     \t380\t570\n",
      "13 \t10    \t565\t15     \t520\t570\n",
      "14 \t2     \t570\t0      \t570\t570\n",
      "15 \t7     \t550\t60     \t370\t570\n",
      "16 \t6     \t511\t125.415\t180\t570\n",
      "17 \t7     \t430\t151.063\t180\t570\n",
      "18 \t6     \t525\t90.6918\t320\t570\n",
      "19 \t8     \t565\t15     \t520\t570\n",
      "20 \t6     \t570\t0      \t570\t570\n",
      "La mejor solucion encontrada es: \n",
      "[0, 1, 1, 1, 1]\n"
     ]
    }
   ],
   "metadata": {}
  },
  {
   "cell_type": "markdown",
   "source": [
    "## Representación de los resultados\r\n",
    "Por último, se pueden obtener gráficas empleando los datos de las estadísticas recogidas, para visualizarlos de forma más intuitiva."
   ],
   "metadata": {}
  },
  {
   "cell_type": "markdown",
   "source": [
    "### Representation of the results\r\n",
    "Finally, graphs can be obtained using the collected statistical data to visualise them in a more intuitive way."
   ],
   "metadata": {}
  },
  {
   "cell_type": "code",
   "execution_count": 12,
   "source": [
    "# Se recuperan los datos desde el log\r\n",
    "gen = logbook.select(\"gen\")\r\n",
    "avgs = logbook.select(\"avg\")\r\n",
    "    \r\n",
    "# Se establece una figura para dibujar\r\n",
    "fig = plt.figure()\r\n",
    "    \r\n",
    "# Se representa la media del valor de fitness por cada generación\r\n",
    "ax1 = plt.gca()\r\n",
    "line1 = ax1.plot(gen, avgs, \"r-\", label=\"Average Fitness\")    \r\n",
    "ax1.set_xlabel(\"Generation\")\r\n",
    "ax1.set_ylabel(\"Fitness\", color=\"b\")\r\n",
    "    \r\n",
    "''' Notad que se deberían representar mas cosas. Por ejemplo el maximo y el minimo de\r\n",
    "ese fitness se están recogiendo en las estadisticas, aunque en el ejemplo no se\r\n",
    "representen '''\r\n",
    "\r\n",
    "'''Note that additional information should be represented. For example, the maximum and minimum of that fitness are being collected in the statistics, although in the example they are not represented'''\r\n",
    "\r\n",
    "plt.plot()"
   ],
   "outputs": [
    {
     "output_type": "execute_result",
     "data": {
      "text/plain": [
       "[]"
      ]
     },
     "metadata": {},
     "execution_count": 12
    },
    {
     "output_type": "display_data",
     "data": {
      "image/png": "[encoded data removed]",
      "text/plain": [
       "<Figure size 432x288 with 1 Axes>"
      ]
     },
     "metadata": {
      "needs_background": "light"
     }
    }
   ],
   "metadata": {}
  },
  {
   "cell_type": "code",
   "execution_count": null,
   "source": [],
   "outputs": [],
   "metadata": {}
  }
 ],
 "metadata": {
  "kernelspec": {
   "name": "python3",
   "display_name": "Python 3.8.11 64-bit ('base': conda)"
  },
  "language_info": {
   "codemirror_mode": {
    "name": "ipython",
    "version": 3
   },
   "file_extension": ".py",
   "mimetype": "text/x-python",
   "name": "python",
   "nbconvert_exporter": "python",
   "pygments_lexer": "ipython3",
   "version": "3.8.11"
  },
  "interpreter": {
   "hash": "cbc535052fe6eb31943dffd2823d4e68c6462d8f4400f9a1c2e11a31459062f6"
  }
 },
 "nbformat": 4,
 "nbformat_minor": 2
}